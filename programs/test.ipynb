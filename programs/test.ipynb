{
 "cells": [
  {
   "cell_type": "code",
   "execution_count": 3,
   "metadata": {},
   "outputs": [],
   "source": [
    "import pandas as pd "
   ]
  },
  {
   "cell_type": "code",
   "execution_count": 4,
   "metadata": {},
   "outputs": [
    {
     "output_type": "execute_result",
     "data": {
      "text/plain": "     Match Date Kick Off Time          Home Team  HGoals        Away Team  \\\n0    2018-03-01  21:00:00.000         Las Palmas       1        Barcelona   \n1    2017-08-20  20:15:00.000          Barcelona       2       Real Betis   \n2    2017-10-14  20:45:00.000    Atlético Madrid       1        Barcelona   \n3    2018-04-07  20:45:00.000          Barcelona       3          Leganés   \n4    2017-10-28  20:45:00.000    Athletic Bilbao       0        Barcelona   \n..          ...           ...                ...     ...              ...   \n447  2009-05-02  20:00:00.000        Real Madrid       2        Barcelona   \n448  2009-04-25  22:00:00.000           Valencia       2        Barcelona   \n449  2008-11-08  22:00:00.000          Barcelona       6  Real Valladolid   \n450  2009-04-04  20:00:00.000    Real Valladolid       0        Barcelona   \n451  2008-11-16  21:00:00.000  Recreativo Huelva       0        Barcelona   \n\n     AGoals  \n0         1  \n1         0  \n2         1  \n3         1  \n4         2  \n..      ...  \n447       6  \n448       2  \n449       0  \n450       1  \n451       2  \n\n[452 rows x 6 columns]",
      "text/html": "<div>\n<style scoped>\n    .dataframe tbody tr th:only-of-type {\n        vertical-align: middle;\n    }\n\n    .dataframe tbody tr th {\n        vertical-align: top;\n    }\n\n    .dataframe thead th {\n        text-align: right;\n    }\n</style>\n<table border=\"1\" class=\"dataframe\">\n  <thead>\n    <tr style=\"text-align: right;\">\n      <th></th>\n      <th>Match Date</th>\n      <th>Kick Off Time</th>\n      <th>Home Team</th>\n      <th>HGoals</th>\n      <th>Away Team</th>\n      <th>AGoals</th>\n    </tr>\n  </thead>\n  <tbody>\n    <tr>\n      <th>0</th>\n      <td>2018-03-01</td>\n      <td>21:00:00.000</td>\n      <td>Las Palmas</td>\n      <td>1</td>\n      <td>Barcelona</td>\n      <td>1</td>\n    </tr>\n    <tr>\n      <th>1</th>\n      <td>2017-08-20</td>\n      <td>20:15:00.000</td>\n      <td>Barcelona</td>\n      <td>2</td>\n      <td>Real Betis</td>\n      <td>0</td>\n    </tr>\n    <tr>\n      <th>2</th>\n      <td>2017-10-14</td>\n      <td>20:45:00.000</td>\n      <td>Atlético Madrid</td>\n      <td>1</td>\n      <td>Barcelona</td>\n      <td>1</td>\n    </tr>\n    <tr>\n      <th>3</th>\n      <td>2018-04-07</td>\n      <td>20:45:00.000</td>\n      <td>Barcelona</td>\n      <td>3</td>\n      <td>Leganés</td>\n      <td>1</td>\n    </tr>\n    <tr>\n      <th>4</th>\n      <td>2017-10-28</td>\n      <td>20:45:00.000</td>\n      <td>Athletic Bilbao</td>\n      <td>0</td>\n      <td>Barcelona</td>\n      <td>2</td>\n    </tr>\n    <tr>\n      <th>...</th>\n      <td>...</td>\n      <td>...</td>\n      <td>...</td>\n      <td>...</td>\n      <td>...</td>\n      <td>...</td>\n    </tr>\n    <tr>\n      <th>447</th>\n      <td>2009-05-02</td>\n      <td>20:00:00.000</td>\n      <td>Real Madrid</td>\n      <td>2</td>\n      <td>Barcelona</td>\n      <td>6</td>\n    </tr>\n    <tr>\n      <th>448</th>\n      <td>2009-04-25</td>\n      <td>22:00:00.000</td>\n      <td>Valencia</td>\n      <td>2</td>\n      <td>Barcelona</td>\n      <td>2</td>\n    </tr>\n    <tr>\n      <th>449</th>\n      <td>2008-11-08</td>\n      <td>22:00:00.000</td>\n      <td>Barcelona</td>\n      <td>6</td>\n      <td>Real Valladolid</td>\n      <td>0</td>\n    </tr>\n    <tr>\n      <th>450</th>\n      <td>2009-04-04</td>\n      <td>20:00:00.000</td>\n      <td>Real Valladolid</td>\n      <td>0</td>\n      <td>Barcelona</td>\n      <td>1</td>\n    </tr>\n    <tr>\n      <th>451</th>\n      <td>2008-11-16</td>\n      <td>21:00:00.000</td>\n      <td>Recreativo Huelva</td>\n      <td>0</td>\n      <td>Barcelona</td>\n      <td>2</td>\n    </tr>\n  </tbody>\n</table>\n<p>452 rows × 6 columns</p>\n</div>"
     },
     "metadata": {},
     "execution_count": 4
    }
   ],
   "source": [
    "df = pd.read_csv(r'C:\\Users\\u0168991\\Documents\\Projects\\football\\output.csv', encoding= 'utf8')\n",
    "df"
   ]
  },
  {
   "cell_type": "code",
   "execution_count": 5,
   "metadata": {},
   "outputs": [
    {
     "output_type": "execute_result",
     "data": {
      "text/plain": "Match Date       object\nKick Off Time    object\nHome Team        object\nHGoals            int64\nAway Team        object\nAGoals            int64\ndtype: object"
     },
     "metadata": {},
     "execution_count": 5
    }
   ],
   "source": [
    "df.dtypes"
   ]
  }
 ],
 "metadata": {
  "language_info": {
   "codemirror_mode": {
    "name": "ipython",
    "version": 3
   },
   "file_extension": ".py",
   "mimetype": "text/x-python",
   "name": "python",
   "nbconvert_exporter": "python",
   "pygments_lexer": "ipython3",
   "version": "3.8.2-final"
  },
  "orig_nbformat": 2,
  "kernelspec": {
   "name": "python38232bit5fdbc2df128547c59d7f881e2fbedc13",
   "display_name": "Python 3.8.2 32-bit"
  }
 },
 "nbformat": 4,
 "nbformat_minor": 2
}