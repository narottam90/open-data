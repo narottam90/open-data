{
 "cells": [
  {
   "cell_type": "code",
   "execution_count": 1,
   "metadata": {},
   "outputs": [],
   "source": [
    "import pandas as pd "
   ]
  },
  {
   "cell_type": "code",
   "execution_count": 2,
   "metadata": {},
   "outputs": [],
   "source": [
    "df = pd.read_csv(r'C:\\Users\\u0168991\\Documents\\Projects\\football\\open-data\\output.csv', encoding= 'utf8')"
   ]
  },
  {
   "cell_type": "code",
   "execution_count": 3,
   "metadata": {},
   "outputs": [],
   "source": [
    "# convert Match Date column from object type to datetime type"
   ]
  },
  {
   "cell_type": "code",
   "execution_count": 4,
   "metadata": {},
   "outputs": [],
   "source": [
    "df['Match Date'] = pd.to_datetime(df['Match Date'], format = \"%Y-%m-%d\")"
   ]
  },
  {
   "cell_type": "code",
   "execution_count": 17,
   "metadata": {},
   "outputs": [
    {
     "output_type": "execute_result",
     "data": {
      "text/plain": "    Match Date Kick Off Time            Home Team  HGoals  \\\n314 2004-10-16  22:00:00.000             Espanyol       0   \n310 2004-10-24  21:00:00.000            Barcelona       3   \n311 2004-12-04  20:00:00.000            Barcelona       4   \n309 2004-12-11  20:00:00.000             Albacete       1   \n312 2004-12-21  20:00:00.000            Barcelona       2   \n315 2005-04-17  21:00:00.000            Barcelona       2   \n313 2005-05-01  19:00:00.000            Barcelona       2   \n318 2005-10-01  20:00:00.000            Barcelona       2   \n325 2005-10-22  22:00:00.000            Barcelona       3   \n316 2005-10-26  20:30:00.000            Barcelona       2   \n326 2005-11-06  21:00:00.000               Getafe       1   \n324 2005-11-19  20:00:00.000          Real Madrid       0   \n332 2005-11-27  21:00:00.000            Barcelona       4   \n323 2005-12-04  19:00:00.000           Villarreal       0   \n329 2005-12-11  21:00:00.000            Barcelona       2   \n319 2005-12-17  22:00:00.000                Cádiz       1   \n321 2005-12-20  21:00:00.000            Barcelona       2   \n327 2006-01-07  22:00:00.000             Espanyol       1   \n328 2006-01-15  19:00:00.000            Barcelona       2   \n322 2006-01-22  19:00:00.000            Barcelona       2   \n320 2006-01-29  19:00:00.000             Mallorca       0   \n331 2006-02-05  19:00:00.000            Barcelona       1   \n317 2006-02-18  22:00:00.000            Barcelona       5   \n330 2006-02-25  22:00:00.000        Real Zaragoza       0   \n341 2006-08-28  21:00:00.000           Celta Vigo       2   \n349 2006-09-09  20:00:00.000            Barcelona       3   \n352 2006-09-17  20:00:00.000     Racing Santander       0   \n350 2006-09-24  21:00:00.000            Barcelona       1   \n354 2006-09-30  22:00:00.000      Athletic Bilbao       1   \n347 2006-10-15  19:00:00.000            Barcelona       3   \n344 2006-10-22  21:00:00.000          Real Madrid       2   \n356 2006-11-04  22:00:00.000  Deportivo La Coruna       1   \n346 2006-11-12  21:00:00.000            Barcelona       3   \n333 2007-02-11  19:00:00.000            Barcelona       2   \n345 2007-02-18  19:00:00.000             Valencia       2   \n342 2007-02-25  21:00:00.000            Barcelona       3   \n348 2007-03-03  22:00:00.000              Sevilla       2   \n351 2007-03-10  22:00:00.000            Barcelona       3   \n353 2007-03-17  20:00:00.000    Recreativo Huelva       0   \n357 2007-03-31  22:00:00.000            Barcelona       2   \n\n               Away Team  AGoals     Season  \n314            Barcelona       1  2004/2005  \n310              Osasuna       0  2004/2005  \n311               Málaga       0  2004/2005  \n309            Barcelona       2  2004/2005  \n312              Levante       1  2004/2005  \n315               Getafe       0  2004/2005  \n313             Albacete       0  2004/2005  \n318        Real Zaragoza       2  2005/2006  \n325              Osasuna       0  2005/2006  \n316               Málaga       0  2005/2006  \n326            Barcelona       3  2005/2006  \n324            Barcelona       3  2005/2006  \n332     Racing Santander       1  2005/2006  \n323            Barcelona       2  2005/2006  \n329              Sevilla       1  2005/2006  \n319            Barcelona       3  2005/2006  \n321           Celta Vigo       0  2005/2006  \n327            Barcelona       2  2005/2006  \n328      Athletic Bilbao       1  2005/2006  \n322     Deportivo Alavés       0  2005/2006  \n320            Barcelona       3  2005/2006  \n331      Atlético Madrid       3  2005/2006  \n317           Real Betis       1  2005/2006  \n330            Barcelona       2  2005/2006  \n341            Barcelona       3  2006/2007  \n349              Osasuna       0  2006/2007  \n352            Barcelona       3  2006/2007  \n350             Valencia       1  2006/2007  \n354            Barcelona       3  2006/2007  \n347              Sevilla       1  2006/2007  \n344            Barcelona       0  2006/2007  \n356            Barcelona       1  2006/2007  \n346        Real Zaragoza       1  2006/2007  \n333     Racing Santander       0  2006/2007  \n345            Barcelona       1  2006/2007  \n342      Athletic Bilbao       0  2006/2007  \n348            Barcelona       1  2006/2007  \n351          Real Madrid       3  2006/2007  \n353            Barcelona       4  2006/2007  \n357  Deportivo La Coruna       1  2006/2007  ",
      "text/html": "<div>\n<style scoped>\n    .dataframe tbody tr th:only-of-type {\n        vertical-align: middle;\n    }\n\n    .dataframe tbody tr th {\n        vertical-align: top;\n    }\n\n    .dataframe thead th {\n        text-align: right;\n    }\n</style>\n<table border=\"1\" class=\"dataframe\">\n  <thead>\n    <tr style=\"text-align: right;\">\n      <th></th>\n      <th>Match Date</th>\n      <th>Kick Off Time</th>\n      <th>Home Team</th>\n      <th>HGoals</th>\n      <th>Away Team</th>\n      <th>AGoals</th>\n      <th>Season</th>\n    </tr>\n  </thead>\n  <tbody>\n    <tr>\n      <th>314</th>\n      <td>2004-10-16</td>\n      <td>22:00:00.000</td>\n      <td>Espanyol</td>\n      <td>0</td>\n      <td>Barcelona</td>\n      <td>1</td>\n      <td>2004/2005</td>\n    </tr>\n    <tr>\n      <th>310</th>\n      <td>2004-10-24</td>\n      <td>21:00:00.000</td>\n      <td>Barcelona</td>\n      <td>3</td>\n      <td>Osasuna</td>\n      <td>0</td>\n      <td>2004/2005</td>\n    </tr>\n    <tr>\n      <th>311</th>\n      <td>2004-12-04</td>\n      <td>20:00:00.000</td>\n      <td>Barcelona</td>\n      <td>4</td>\n      <td>Málaga</td>\n      <td>0</td>\n      <td>2004/2005</td>\n    </tr>\n    <tr>\n      <th>309</th>\n      <td>2004-12-11</td>\n      <td>20:00:00.000</td>\n      <td>Albacete</td>\n      <td>1</td>\n      <td>Barcelona</td>\n      <td>2</td>\n      <td>2004/2005</td>\n    </tr>\n    <tr>\n      <th>312</th>\n      <td>2004-12-21</td>\n      <td>20:00:00.000</td>\n      <td>Barcelona</td>\n      <td>2</td>\n      <td>Levante</td>\n      <td>1</td>\n      <td>2004/2005</td>\n    </tr>\n    <tr>\n      <th>315</th>\n      <td>2005-04-17</td>\n      <td>21:00:00.000</td>\n      <td>Barcelona</td>\n      <td>2</td>\n      <td>Getafe</td>\n      <td>0</td>\n      <td>2004/2005</td>\n    </tr>\n    <tr>\n      <th>313</th>\n      <td>2005-05-01</td>\n      <td>19:00:00.000</td>\n      <td>Barcelona</td>\n      <td>2</td>\n      <td>Albacete</td>\n      <td>0</td>\n      <td>2004/2005</td>\n    </tr>\n    <tr>\n      <th>318</th>\n      <td>2005-10-01</td>\n      <td>20:00:00.000</td>\n      <td>Barcelona</td>\n      <td>2</td>\n      <td>Real Zaragoza</td>\n      <td>2</td>\n      <td>2005/2006</td>\n    </tr>\n    <tr>\n      <th>325</th>\n      <td>2005-10-22</td>\n      <td>22:00:00.000</td>\n      <td>Barcelona</td>\n      <td>3</td>\n      <td>Osasuna</td>\n      <td>0</td>\n      <td>2005/2006</td>\n    </tr>\n    <tr>\n      <th>316</th>\n      <td>2005-10-26</td>\n      <td>20:30:00.000</td>\n      <td>Barcelona</td>\n      <td>2</td>\n      <td>Málaga</td>\n      <td>0</td>\n      <td>2005/2006</td>\n    </tr>\n    <tr>\n      <th>326</th>\n      <td>2005-11-06</td>\n      <td>21:00:00.000</td>\n      <td>Getafe</td>\n      <td>1</td>\n      <td>Barcelona</td>\n      <td>3</td>\n      <td>2005/2006</td>\n    </tr>\n    <tr>\n      <th>324</th>\n      <td>2005-11-19</td>\n      <td>20:00:00.000</td>\n      <td>Real Madrid</td>\n      <td>0</td>\n      <td>Barcelona</td>\n      <td>3</td>\n      <td>2005/2006</td>\n    </tr>\n    <tr>\n      <th>332</th>\n      <td>2005-11-27</td>\n      <td>21:00:00.000</td>\n      <td>Barcelona</td>\n      <td>4</td>\n      <td>Racing Santander</td>\n      <td>1</td>\n      <td>2005/2006</td>\n    </tr>\n    <tr>\n      <th>323</th>\n      <td>2005-12-04</td>\n      <td>19:00:00.000</td>\n      <td>Villarreal</td>\n      <td>0</td>\n      <td>Barcelona</td>\n      <td>2</td>\n      <td>2005/2006</td>\n    </tr>\n    <tr>\n      <th>329</th>\n      <td>2005-12-11</td>\n      <td>21:00:00.000</td>\n      <td>Barcelona</td>\n      <td>2</td>\n      <td>Sevilla</td>\n      <td>1</td>\n      <td>2005/2006</td>\n    </tr>\n    <tr>\n      <th>319</th>\n      <td>2005-12-17</td>\n      <td>22:00:00.000</td>\n      <td>Cádiz</td>\n      <td>1</td>\n      <td>Barcelona</td>\n      <td>3</td>\n      <td>2005/2006</td>\n    </tr>\n    <tr>\n      <th>321</th>\n      <td>2005-12-20</td>\n      <td>21:00:00.000</td>\n      <td>Barcelona</td>\n      <td>2</td>\n      <td>Celta Vigo</td>\n      <td>0</td>\n      <td>2005/2006</td>\n    </tr>\n    <tr>\n      <th>327</th>\n      <td>2006-01-07</td>\n      <td>22:00:00.000</td>\n      <td>Espanyol</td>\n      <td>1</td>\n      <td>Barcelona</td>\n      <td>2</td>\n      <td>2005/2006</td>\n    </tr>\n    <tr>\n      <th>328</th>\n      <td>2006-01-15</td>\n      <td>19:00:00.000</td>\n      <td>Barcelona</td>\n      <td>2</td>\n      <td>Athletic Bilbao</td>\n      <td>1</td>\n      <td>2005/2006</td>\n    </tr>\n    <tr>\n      <th>322</th>\n      <td>2006-01-22</td>\n      <td>19:00:00.000</td>\n      <td>Barcelona</td>\n      <td>2</td>\n      <td>Deportivo Alavés</td>\n      <td>0</td>\n      <td>2005/2006</td>\n    </tr>\n    <tr>\n      <th>320</th>\n      <td>2006-01-29</td>\n      <td>19:00:00.000</td>\n      <td>Mallorca</td>\n      <td>0</td>\n      <td>Barcelona</td>\n      <td>3</td>\n      <td>2005/2006</td>\n    </tr>\n    <tr>\n      <th>331</th>\n      <td>2006-02-05</td>\n      <td>19:00:00.000</td>\n      <td>Barcelona</td>\n      <td>1</td>\n      <td>Atlético Madrid</td>\n      <td>3</td>\n      <td>2005/2006</td>\n    </tr>\n    <tr>\n      <th>317</th>\n      <td>2006-02-18</td>\n      <td>22:00:00.000</td>\n      <td>Barcelona</td>\n      <td>5</td>\n      <td>Real Betis</td>\n      <td>1</td>\n      <td>2005/2006</td>\n    </tr>\n    <tr>\n      <th>330</th>\n      <td>2006-02-25</td>\n      <td>22:00:00.000</td>\n      <td>Real Zaragoza</td>\n      <td>0</td>\n      <td>Barcelona</td>\n      <td>2</td>\n      <td>2005/2006</td>\n    </tr>\n    <tr>\n      <th>341</th>\n      <td>2006-08-28</td>\n      <td>21:00:00.000</td>\n      <td>Celta Vigo</td>\n      <td>2</td>\n      <td>Barcelona</td>\n      <td>3</td>\n      <td>2006/2007</td>\n    </tr>\n    <tr>\n      <th>349</th>\n      <td>2006-09-09</td>\n      <td>20:00:00.000</td>\n      <td>Barcelona</td>\n      <td>3</td>\n      <td>Osasuna</td>\n      <td>0</td>\n      <td>2006/2007</td>\n    </tr>\n    <tr>\n      <th>352</th>\n      <td>2006-09-17</td>\n      <td>20:00:00.000</td>\n      <td>Racing Santander</td>\n      <td>0</td>\n      <td>Barcelona</td>\n      <td>3</td>\n      <td>2006/2007</td>\n    </tr>\n    <tr>\n      <th>350</th>\n      <td>2006-09-24</td>\n      <td>21:00:00.000</td>\n      <td>Barcelona</td>\n      <td>1</td>\n      <td>Valencia</td>\n      <td>1</td>\n      <td>2006/2007</td>\n    </tr>\n    <tr>\n      <th>354</th>\n      <td>2006-09-30</td>\n      <td>22:00:00.000</td>\n      <td>Athletic Bilbao</td>\n      <td>1</td>\n      <td>Barcelona</td>\n      <td>3</td>\n      <td>2006/2007</td>\n    </tr>\n    <tr>\n      <th>347</th>\n      <td>2006-10-15</td>\n      <td>19:00:00.000</td>\n      <td>Barcelona</td>\n      <td>3</td>\n      <td>Sevilla</td>\n      <td>1</td>\n      <td>2006/2007</td>\n    </tr>\n    <tr>\n      <th>344</th>\n      <td>2006-10-22</td>\n      <td>21:00:00.000</td>\n      <td>Real Madrid</td>\n      <td>2</td>\n      <td>Barcelona</td>\n      <td>0</td>\n      <td>2006/2007</td>\n    </tr>\n    <tr>\n      <th>356</th>\n      <td>2006-11-04</td>\n      <td>22:00:00.000</td>\n      <td>Deportivo La Coruna</td>\n      <td>1</td>\n      <td>Barcelona</td>\n      <td>1</td>\n      <td>2006/2007</td>\n    </tr>\n    <tr>\n      <th>346</th>\n      <td>2006-11-12</td>\n      <td>21:00:00.000</td>\n      <td>Barcelona</td>\n      <td>3</td>\n      <td>Real Zaragoza</td>\n      <td>1</td>\n      <td>2006/2007</td>\n    </tr>\n    <tr>\n      <th>333</th>\n      <td>2007-02-11</td>\n      <td>19:00:00.000</td>\n      <td>Barcelona</td>\n      <td>2</td>\n      <td>Racing Santander</td>\n      <td>0</td>\n      <td>2006/2007</td>\n    </tr>\n    <tr>\n      <th>345</th>\n      <td>2007-02-18</td>\n      <td>19:00:00.000</td>\n      <td>Valencia</td>\n      <td>2</td>\n      <td>Barcelona</td>\n      <td>1</td>\n      <td>2006/2007</td>\n    </tr>\n    <tr>\n      <th>342</th>\n      <td>2007-02-25</td>\n      <td>21:00:00.000</td>\n      <td>Barcelona</td>\n      <td>3</td>\n      <td>Athletic Bilbao</td>\n      <td>0</td>\n      <td>2006/2007</td>\n    </tr>\n    <tr>\n      <th>348</th>\n      <td>2007-03-03</td>\n      <td>22:00:00.000</td>\n      <td>Sevilla</td>\n      <td>2</td>\n      <td>Barcelona</td>\n      <td>1</td>\n      <td>2006/2007</td>\n    </tr>\n    <tr>\n      <th>351</th>\n      <td>2007-03-10</td>\n      <td>22:00:00.000</td>\n      <td>Barcelona</td>\n      <td>3</td>\n      <td>Real Madrid</td>\n      <td>3</td>\n      <td>2006/2007</td>\n    </tr>\n    <tr>\n      <th>353</th>\n      <td>2007-03-17</td>\n      <td>20:00:00.000</td>\n      <td>Recreativo Huelva</td>\n      <td>0</td>\n      <td>Barcelona</td>\n      <td>4</td>\n      <td>2006/2007</td>\n    </tr>\n    <tr>\n      <th>357</th>\n      <td>2007-03-31</td>\n      <td>22:00:00.000</td>\n      <td>Barcelona</td>\n      <td>2</td>\n      <td>Deportivo La Coruna</td>\n      <td>1</td>\n      <td>2006/2007</td>\n    </tr>\n  </tbody>\n</table>\n</div>"
     },
     "metadata": {},
     "execution_count": 17
    }
   ],
   "source": [
    "df.sort_values(by='Match Date').head(40)"
   ]
  },
  {
   "cell_type": "code",
   "execution_count": 23,
   "metadata": {},
   "outputs": [
    {
     "output_type": "execute_result",
     "data": {
      "text/plain": "2014/2015    38\n2011/2012    37\n2017/2018    36\n2009/2010    35\n2018/2019    34\n2016/2017    34\n2015/2016    33\n2010/2011    33\n2012/2013    32\n2013/2014    31\n2008/2009    31\n2007/2008    28\n2006/2007    26\n2005/2006    17\n2004/2005     7\nName: Season, dtype: int64"
     },
     "metadata": {},
     "execution_count": 23
    }
   ],
   "source": [
    "df['Season'].value_counts()"
   ]
  },
  {
   "cell_type": "code",
   "execution_count": null,
   "metadata": {},
   "outputs": [],
   "source": []
  }
 ],
 "metadata": {
  "language_info": {
   "codemirror_mode": {
    "name": "ipython",
    "version": 3
   },
   "file_extension": ".py",
   "mimetype": "text/x-python",
   "name": "python",
   "nbconvert_exporter": "python",
   "pygments_lexer": "ipython3",
   "version": "3.8.2-final"
  },
  "orig_nbformat": 2,
  "kernelspec": {
   "name": "python38232bit5fdbc2df128547c59d7f881e2fbedc13",
   "display_name": "Python 3.8.2 32-bit"
  }
 },
 "nbformat": 4,
 "nbformat_minor": 2
}